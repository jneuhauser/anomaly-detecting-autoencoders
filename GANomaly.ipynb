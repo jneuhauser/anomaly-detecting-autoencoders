{
 "cells": [
  {
   "cell_type": "markdown",
   "metadata": {},
   "source": [
    "### GANomaly: Semi-Supervised Anomaly Detection via Adversarial Training\n",
    "Paper: https://arxiv.org/abs/1805.06725"
   ]
  },
  {
   "cell_type": "code",
   "execution_count": null,
   "metadata": {},
   "outputs": [],
   "source": [
    "from importlib import reload\n",
    "import numpy as np\n",
    "import tensorflow as tf\n",
    "import matplotlib.pyplot as plt\n",
    "import models.ganomaly as mg\n",
    "from utils.datasets import *"
   ]
  },
  {
   "cell_type": "code",
   "execution_count": null,
   "metadata": {},
   "outputs": [],
   "source": [
    "(train_images, train_labels), (test_images, test_labels) = get_dataset_cifar10()\n",
    "print(train_images.shape, train_labels.shape, test_images.shape, test_labels.shape)\n",
    "images = np.concatenate([train_images, test_images], axis=0)\n",
    "labels = np.concatenate([train_labels, test_labels], axis=0)\n",
    "print(images.shape, labels.shape)"
   ]
  },
  {
   "cell_type": "code",
   "execution_count": null,
   "metadata": {},
   "outputs": [],
   "source": [
    "reload(mg)\n",
    "model = mg.GANomaly(\n",
    "    input_shape=images[0].shape\n",
    ")\n",
    "model.compile()\n",
    "model.build((None, *images[0].shape))"
   ]
  },
  {
   "cell_type": "code",
   "execution_count": null,
   "metadata": {
    "scrolled": false
   },
   "outputs": [],
   "source": [
    "tf.config.run_functions_eagerly(False)\n",
    "results = model.fit(\n",
    "    x=images,\n",
    "    batch_size=64,\n",
    "    epochs=1,\n",
    "    \n",
    ")"
   ]
  },
  {
   "cell_type": "code",
   "execution_count": null,
   "metadata": {},
   "outputs": [],
   "source": [
    "print(results.history.keys())\n",
    "\n",
    "plt.plot(results.history['err_g'])\n",
    "plt.title('generator loss')\n",
    "plt.ylabel('loss')\n",
    "plt.xlabel('epoch')\n",
    "plt.legend(['generator'], loc='upper right')\n",
    "plt.show()\n",
    "\n",
    "plt.plot(results.history['err_g_adv'])\n",
    "plt.plot(results.history['err_g_con'])\n",
    "plt.plot(results.history['err_g_enc'])\n",
    "plt.title('generator specific losses')\n",
    "plt.ylabel('loss')\n",
    "plt.xlabel('epoch')\n",
    "plt.legend(['adversarial', 'reconstruction', 'encoder'], loc='upper right')\n",
    "plt.show()\n",
    "\n",
    "plt.plot(results.history['err_d'])\n",
    "plt.plot(results.history['err_d_real'])\n",
    "plt.plot(results.history['err_d_fake'])\n",
    "plt.title('discriminator losses')\n",
    "plt.ylabel('loss')\n",
    "plt.xlabel('epoch')\n",
    "plt.legend(['sum', 'real', 'fake'], loc='upper right')\n",
    "plt.show()"
   ]
  },
  {
   "cell_type": "code",
   "execution_count": null,
   "metadata": {},
   "outputs": [],
   "source": []
  }
 ],
 "metadata": {
  "kernelspec": {
   "display_name": "Python 3",
   "language": "python",
   "name": "python3"
  },
  "language_info": {
   "codemirror_mode": {
    "name": "ipython",
    "version": 3
   },
   "file_extension": ".py",
   "mimetype": "text/x-python",
   "name": "python",
   "nbconvert_exporter": "python",
   "pygments_lexer": "ipython3",
   "version": "3.6.9"
  }
 },
 "nbformat": 4,
 "nbformat_minor": 4
}
