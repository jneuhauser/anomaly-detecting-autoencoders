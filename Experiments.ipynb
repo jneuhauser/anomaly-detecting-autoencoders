{
 "cells": [
  {
   "cell_type": "code",
   "execution_count": null,
   "metadata": {},
   "outputs": [],
   "source": [
    "from importlib import reload\n",
    "import models.networks as nm\n",
    "import models.ganomaly as gm\n",
    "import models.cvae as vm"
   ]
  },
  {
   "cell_type": "code",
   "execution_count": null,
   "metadata": {},
   "outputs": [],
   "source": [
    "input_shape = (128,128,3)"
   ]
  },
  {
   "cell_type": "code",
   "execution_count": null,
   "metadata": {},
   "outputs": [],
   "source": [
    "reload(nm)\n",
    "encoder = nm.Encoder(input_shape=input_shape, n_extra_layers=2)\n",
    "encoder.summary()"
   ]
  },
  {
   "cell_type": "code",
   "execution_count": null,
   "metadata": {},
   "outputs": [],
   "source": [
    "reload(nm)\n",
    "encoder = nm.Decoder(input_shape=input_shape, n_extra_layers=2)\n",
    "encoder.summary()"
   ]
  },
  {
   "cell_type": "code",
   "execution_count": null,
   "metadata": {},
   "outputs": [],
   "source": [
    "reload(gm)\n",
    "discriminator = gm.Discriminator(input_shape)\n",
    "#discriminator.features.build((None, *input_shape))\n",
    "#discriminator.features.summary()\n",
    "discriminator.build((None, *input_shape))\n",
    "discriminator.summary()"
   ]
  },
  {
   "cell_type": "code",
   "execution_count": null,
   "metadata": {},
   "outputs": [],
   "source": [
    "reload(gm)\n",
    "model = gm.GANomaly(input_shape)\n",
    "model.compile()\n",
    "model.build((None, *input_shape))\n",
    "model.summary()"
   ]
  },
  {
   "cell_type": "code",
   "execution_count": null,
   "metadata": {},
   "outputs": [],
   "source": [
    "model.metrics"
   ]
  },
  {
   "cell_type": "code",
   "execution_count": null,
   "metadata": {},
   "outputs": [],
   "source": [
    "import tensorflow as tf\n",
    "\n",
    "#optimizers = dict(filter(lambda kv: 'optimizer' in kv[0], model.__dict__.items()))\n",
    "#print(optimizers)\n",
    "\n",
    "optimizers = {k: v for k, v in model.__dict__.items() if isinstance(v, tf.keras.optimizers.Optimizer)}\n",
    "print(optimizers)\n",
    "\n",
    "for k, v in {}: #model.__dict__.items():\n",
    "    if 'optimizer' not in k:\n",
    "        continue\n",
    "    #print(k, v)\n",
    "    #print(getattr(model, k))\n",
    "    old_lr = float(tf.keras.backend.get_value(v.lr))\n",
    "    new_lr = old_lr * 0.1\n",
    "    print(type(old_lr), old_lr, type(new_lr), new_lr)\n",
    "    #print(\"adjusting {}.lr from {} to {}\".format(k, old_lr, new_lr))\n",
    "    tf.keras.backend.set_value(v.lr, new_lr)"
   ]
  },
  {
   "cell_type": "code",
   "execution_count": null,
   "metadata": {},
   "outputs": [],
   "source": [
    "reload(vm)\n",
    "cvae = vm.CVAE(input_shape=input_shape, intermediate_size=100, latent_size=100)\n",
    "cvae.build((None, *input_shape))\n",
    "cvae.summary()"
   ]
  },
  {
   "cell_type": "code",
   "execution_count": null,
   "metadata": {},
   "outputs": [],
   "source": [
    "reload(vm)\n",
    "cvae = vm.CVAE(input_shape=input_shape, intermediate_size=0, latent_size=100)\n",
    "cvae.build((None, *input_shape))\n",
    "cvae.summary()"
   ]
  },
  {
   "cell_type": "code",
   "execution_count": null,
   "metadata": {},
   "outputs": [],
   "source": [
    "import tensorflow as tf"
   ]
  },
  {
   "cell_type": "code",
   "execution_count": null,
   "metadata": {},
   "outputs": [],
   "source": [
    "encoder = tf.keras.Sequential(\n",
    "    tf.keras.layers.Conv2D(\n",
    "        filters=16,\n",
    "        kernel_size=(3, 3),\n",
    "        strides=(2, 2),\n",
    "        padding='same'\n",
    "    ),\n",
    ")\n",
    "encoder.build((None, 16, 16, 16))\n",
    "encoder.summary()"
   ]
  },
  {
   "cell_type": "code",
   "execution_count": null,
   "metadata": {},
   "outputs": [],
   "source": [
    "decoder = tf.keras.Sequential(\n",
    "    tf.keras.layers.Conv2DTranspose(\n",
    "        filters=16,\n",
    "        kernel_size=(3, 3),\n",
    "        strides=(2, 2),\n",
    "        padding='valid'\n",
    "    ),\n",
    ")\n",
    "decoder.build((None, 16, 16, 16))\n",
    "decoder.summary()"
   ]
  },
  {
   "cell_type": "markdown",
   "metadata": {},
   "source": [
    "# Experiments with transposed convolution"
   ]
  },
  {
   "cell_type": "code",
   "execution_count": null,
   "metadata": {},
   "outputs": [],
   "source": [
    "import numpy as np\n",
    "import tensorflow as tf"
   ]
  },
  {
   "cell_type": "code",
   "execution_count": null,
   "metadata": {},
   "outputs": [],
   "source": [
    "X = np.array([\n",
    "        [0, 1],\n",
    "        [2, 3]\n",
    "    ], dtype=np.float32)\n",
    "K = np.array([\n",
    "        [0, 1],\n",
    "        [2, 3]\n",
    "    ], dtype=np.float32)"
   ]
  },
  {
   "cell_type": "markdown",
   "metadata": {},
   "source": [
    "## Own transpose layer with numpy"
   ]
  },
  {
   "cell_type": "code",
   "execution_count": null,
   "metadata": {},
   "outputs": [],
   "source": [
    "def conv2d_transpose(X, K, strides=(1, 1), padding='valid'):\n",
    "    Y = np.zeros((\n",
    "        (X.shape[0] - 1) * strides[0] + K.shape[0],\n",
    "        (X.shape[1] - 1) * strides[1] + K.shape[1]\n",
    "    ))\n",
    "    for i in range(X.shape[0]):\n",
    "        strided_i = i * strides[0]\n",
    "        for j in range(X.shape[1]):\n",
    "            strided_j = j * strides[1]\n",
    "            Y[strided_i:strided_i + K.shape[0], strided_j:strided_j + K.shape[1]] += X[i, j] * K\n",
    "    if padding.lower() == 'valid':\n",
    "        return Y\n",
    "    else:\n",
    "        p_left   = (K.shape[0] - strides[0]) // 2\n",
    "        p_right  = K.shape[0] - strides[0] - p_left\n",
    "        p_top    = (K.shape[1] - strides[1]) // 2\n",
    "        p_bottom = K.shape[1] - strides[1] - p_top\n",
    "        return Y[p_left:Y.shape[0] - p_right, p_top:Y.shape[1] - p_bottom]"
   ]
  },
  {
   "cell_type": "code",
   "execution_count": null,
   "metadata": {},
   "outputs": [],
   "source": [
    "conv2d_transpose(X, K, padding='valid')"
   ]
  },
  {
   "cell_type": "code",
   "execution_count": null,
   "metadata": {},
   "outputs": [],
   "source": [
    "conv2d_transpose(X, K, padding='same')"
   ]
  },
  {
   "cell_type": "code",
   "execution_count": null,
   "metadata": {},
   "outputs": [],
   "source": [
    "conv2d_transpose(X, K, strides=(2, 2), padding='valid')"
   ]
  },
  {
   "cell_type": "code",
   "execution_count": null,
   "metadata": {},
   "outputs": [],
   "source": [
    "conv2d_transpose(X, K, strides=(2, 2), padding='same')"
   ]
  },
  {
   "cell_type": "markdown",
   "metadata": {},
   "source": [
    "## Compare results with tf.nn.conv2d_transpose"
   ]
  },
  {
   "cell_type": "code",
   "execution_count": null,
   "metadata": {},
   "outputs": [],
   "source": [
    "Y = tf.nn.conv2d_transpose(\n",
    "    X.reshape((1, 2, 2, 1)), # [batch, height, width, in_channels]\n",
    "    filters=K.reshape((2, 2, 1, 1)), # [height, width, output_channels, in_channels]\n",
    "    output_shape=(1, 3, 3, 1), # [batch, height, width, output_channels]\n",
    "    strides=(1, 1),\n",
    "    padding='VALID',\n",
    ")\n",
    "tf.squeeze(Y)"
   ]
  },
  {
   "cell_type": "code",
   "execution_count": null,
   "metadata": {},
   "outputs": [],
   "source": [
    "Y = tf.nn.conv2d_transpose(\n",
    "    X.reshape((1, 2, 2, 1)), # [batch, height, width, in_channels]\n",
    "    filters=K.reshape((2, 2, 1, 1)), # [height, width, output_channels, in_channels]\n",
    "    output_shape=(1, 2, 2, 1), # [batch, height, width, output_channels]\n",
    "    strides=(1, 1),\n",
    "    padding='SAME',\n",
    ")\n",
    "tf.squeeze(Y)"
   ]
  },
  {
   "cell_type": "code",
   "execution_count": null,
   "metadata": {},
   "outputs": [],
   "source": [
    "Y = tf.nn.conv2d_transpose(\n",
    "    X.reshape((1, 2, 2, 1)), # [batch, height, width, in_channels]\n",
    "    filters=K.reshape((2, 2, 1, 1)), # [height, width, output_channels, in_channels]\n",
    "    output_shape=(1, 4, 4, 1), # [batch, height, width, output_channels]\n",
    "    strides=(2, 2),\n",
    "    padding='VALID',\n",
    ")\n",
    "tf.squeeze(Y)"
   ]
  },
  {
   "cell_type": "code",
   "execution_count": null,
   "metadata": {},
   "outputs": [],
   "source": [
    "Y = tf.nn.conv2d_transpose(\n",
    "    X.reshape((1, 2, 2, 1)), # [batch, height, width, in_channels]\n",
    "    filters=K.reshape((2, 2, 1, 1)), # [height, width, output_channels, in_channels]\n",
    "    output_shape=(1, 4, 4, 1), # [batch, height, width, output_channels]\n",
    "    strides=(2, 2),\n",
    "    padding='SAME',\n",
    ")\n",
    "tf.squeeze(Y)"
   ]
  },
  {
   "cell_type": "markdown",
   "metadata": {},
   "source": [
    "## Compare results with tf.keras.layers.Conv2DTranspose"
   ]
  },
  {
   "cell_type": "code",
   "execution_count": null,
   "metadata": {},
   "outputs": [],
   "source": [
    "layer = tf.keras.layers.Conv2DTranspose(\n",
    "    filters=1,\n",
    "    kernel_size=K.shape,\n",
    "    strides=(1, 1),\n",
    "    padding='VALID',\n",
    "    use_bias=False,\n",
    "    kernel_initializer='zeros',\n",
    "    bias_initializer='zeros'\n",
    ")\n",
    "layer.build((None, 2, 2, 1))\n",
    "layer.set_weights([K.reshape((2, 2, 1, 1))]) # [height, width, output_channels, in_channels]\n",
    "\n",
    "Y = layer(X.reshape((1, 2, 2, 1)))  # [batch, height, width, in_channels]\n",
    "tf.squeeze(Y)"
   ]
  },
  {
   "cell_type": "code",
   "execution_count": null,
   "metadata": {},
   "outputs": [],
   "source": [
    "layer = tf.keras.layers.Conv2DTranspose(\n",
    "    filters=1,\n",
    "    kernel_size=K.shape,\n",
    "    strides=(1, 1),\n",
    "    padding='SAME',\n",
    "    use_bias=False,\n",
    "    kernel_initializer='zeros',\n",
    "    bias_initializer='zeros'\n",
    ")\n",
    "layer.build((None, 2, 2, 1))\n",
    "layer.set_weights([K.reshape((2, 2, 1, 1))]) # [height, width, output_channels, in_channels]\n",
    "\n",
    "Y = layer(X.reshape((1, 2, 2, 1)))  # [batch, height, width, in_channels]\n",
    "tf.squeeze(Y)"
   ]
  },
  {
   "cell_type": "code",
   "execution_count": null,
   "metadata": {},
   "outputs": [],
   "source": [
    "layer = tf.keras.layers.Conv2DTranspose(\n",
    "    filters=1,\n",
    "    kernel_size=K.shape,\n",
    "    strides=(2, 2),\n",
    "    padding='VALID',\n",
    "    use_bias=False,\n",
    "    kernel_initializer='zeros',\n",
    "    bias_initializer='zeros'\n",
    ")\n",
    "layer.build((None, 2, 2, 1))\n",
    "layer.set_weights([K.reshape((2, 2, 1, 1))]) # [height, width, output_channels, in_channels]\n",
    "\n",
    "Y = layer(X.reshape((1, 2, 2, 1)))  # [batch, height, width, in_channels]\n",
    "tf.squeeze(Y)"
   ]
  },
  {
   "cell_type": "code",
   "execution_count": null,
   "metadata": {},
   "outputs": [],
   "source": [
    "layer = tf.keras.layers.Conv2DTranspose(\n",
    "    filters=1,\n",
    "    kernel_size=K.shape,\n",
    "    strides=(2, 2),\n",
    "    padding='SAME',\n",
    "    use_bias=False,\n",
    "    kernel_initializer='zeros',\n",
    "    bias_initializer='zeros'\n",
    ")\n",
    "layer.build((None, 2, 2, 1))\n",
    "layer.set_weights([K.reshape((2, 2, 1, 1))]) # [height, width, output_channels, in_channels]\n",
    "\n",
    "Y = layer(X.reshape((1, 2, 2, 1)))  # [batch, height, width, in_channels]\n",
    "tf.squeeze(Y)"
   ]
  },
  {
   "cell_type": "code",
   "execution_count": null,
   "metadata": {},
   "outputs": [],
   "source": []
  }
 ],
 "metadata": {
  "kernelspec": {
   "display_name": "Python 3",
   "language": "python",
   "name": "python3"
  },
  "language_info": {
   "codemirror_mode": {
    "name": "ipython",
    "version": 3
   },
   "file_extension": ".py",
   "mimetype": "text/x-python",
   "name": "python",
   "nbconvert_exporter": "python",
   "pygments_lexer": "ipython3",
   "version": "3.6.9"
  }
 },
 "nbformat": 4,
 "nbformat_minor": 2
}
