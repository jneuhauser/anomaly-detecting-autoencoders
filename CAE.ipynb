{
 "cells": [
  {
   "cell_type": "markdown",
   "metadata": {},
   "source": [
    "### Convolutional Autoencoder"
   ]
  },
  {
   "cell_type": "code",
   "execution_count": null,
   "metadata": {},
   "outputs": [],
   "source": [
    "import logging, sys\n",
    "logging.basicConfig(\n",
    "    stream=sys.stdout, # Jupyter Notebook doesn't print the default stderr\n",
    "    level=logging.INFO\n",
    ")"
   ]
  },
  {
   "cell_type": "code",
   "execution_count": null,
   "metadata": {},
   "outputs": [],
   "source": [
    "from importlib import reload\n",
    "import numpy as np\n",
    "import tensorflow as tf\n",
    "import matplotlib.pyplot as plt\n",
    "import models.cae as mcae\n",
    "import datasets.common as cds\n",
    "import datasets.mvtec_ad as mvds\n",
    "import utils.callbacks as cbu\n",
    "import utils.datasets as dsu\n",
    "import utils.plot as pu\n",
    "\n",
    "AUTOTUNE = tf.data.experimental.AUTOTUNE"
   ]
  },
  {
   "cell_type": "code",
   "execution_count": null,
   "metadata": {},
   "outputs": [],
   "source": [
    "for mod in (mcae, cds, dsu, pu):\n",
    "    reload(mod)"
   ]
  },
  {
   "cell_type": "markdown",
   "metadata": {},
   "source": [
    "## MVTec AD Dataset"
   ]
  },
  {
   "cell_type": "code",
   "execution_count": null,
   "metadata": {},
   "outputs": [],
   "source": [
    "categories = [\n",
    "    'bottle', 'cable', 'capsule', 'carpet',\n",
    "    'grid', 'hazelnut', 'leather', 'metal_nut',\n",
    "    'pill', 'screw', 'tile', 'toothbrush',\n",
    "    'transistor', 'wood', 'zipper'\n",
    "]\n",
    "\n",
    "category = 0\n",
    "channels = 1\n",
    "resolution = 64\n",
    "buffer_size = 1000\n",
    "\n",
    "resize_image = lambda image, label: (tf.image.resize(image, (resolution, resolution)), label)\n",
    "\n",
    "test_ds = mvds.get_labeled_dataset(\n",
    "    category=categories[category],\n",
    "    split = 'test',\n",
    "    image_channels=channels,\n",
    "    binary_labels=True\n",
    ")\n",
    "test_ds = test_ds.map(resize_image, num_parallel_calls=AUTOTUNE)\n",
    "test_ds = test_ds.cache('/tmp/tfdata_test_ds.cache')\n",
    "\n",
    "train_ds = mvds.get_labeled_dataset(\n",
    "    category=categories[category],\n",
    "    split = 'train',\n",
    "    image_channels=channels,\n",
    "    binary_labels=True\n",
    ")\n",
    "train_ds = train_ds.map(resize_image, num_parallel_calls=AUTOTUNE)\n",
    "\n",
    "train_ds = train_ds.cache('/tmp/tfdata_train_ds.cache')\n",
    "train_ds = train_ds.repeat(10)\n",
    "train_ds = train_ds.shuffle(buffer_size)\n",
    "train_ds = train_ds.prefetch(buffer_size)\n",
    "\n",
    "def augment_image(image, label):\n",
    "    image = tf.image.random_flip_left_right(image)\n",
    "    image = tf.image.random_flip_up_down(image)\n",
    "    # Add 6 pixels of padding\n",
    "    image = tf.image.resize_with_crop_or_pad(image, resolution + 6, resolution + 6) \n",
    "    # Random crop back to the original size\n",
    "    image = tf.image.random_crop(image, size=[resolution, resolution, channels])\n",
    "    #image = tf.image.random_brightness(image, max_delta=0.5)\n",
    "    #image = tf.clip_by_value(image, 0, 1)\n",
    "    return image, label\n",
    "\n",
    "train_ds = train_ds.map(augment_image, num_parallel_calls=AUTOTUNE)\n",
    "\n",
    "train_count = tf.data.experimental.cardinality(train_ds).numpy()\n",
    "test_count = tf.data.experimental.cardinality(test_ds).numpy()\n",
    "print(\"train_count: {}, test_count: {}\".format(train_count, test_count))"
   ]
  },
  {
   "cell_type": "code",
   "execution_count": null,
   "metadata": {
    "scrolled": false
   },
   "outputs": [],
   "source": [
    "reload(mcae)\n",
    "\n",
    "latent_size = 300\n",
    "\n",
    "model = mcae.CAE(\n",
    "    input_shape=(resolution, resolution, channels),\n",
    "    latent_size=latent_size\n",
    ")\n",
    "model.compile(\n",
    "    optimizer=tf.keras.optimizers.Adam(learning_rate=0.001),\n",
    "    loss=tf.keras.losses.MeanSquaredError(),\n",
    "    metrics=[\n",
    "        tf.keras.losses.MeanAbsoluteError(),\n",
    "        tf.keras.losses.BinaryCrossentropy()\n",
    "    ]\n",
    ")\n",
    "#model.build((None, *train_images[0].shape))\n",
    "model.build((None, resolution, resolution, channels))\n",
    "model.summary()"
   ]
  },
  {
   "cell_type": "code",
   "execution_count": null,
   "metadata": {},
   "outputs": [],
   "source": [
    "model.load_weights('/tmp/cae')"
   ]
  },
  {
   "cell_type": "code",
   "execution_count": null,
   "metadata": {},
   "outputs": [],
   "source": [
    "reload(cbu)\n",
    "adcb = cbu.ADModelEvaluator(test_count, early_stopping=20)"
   ]
  },
  {
   "cell_type": "code",
   "execution_count": null,
   "metadata": {
    "scrolled": false
   },
   "outputs": [],
   "source": [
    "tf.config.run_functions_eagerly(False)\n",
    "batch_size = 128\n",
    "results = model.fit(\n",
    "    x=train_ds.batch(batch_size),\n",
    "    epochs=1000,\n",
    "    validation_data=test_ds.batch(batch_size),\n",
    "    callbacks=[adcb],\n",
    "    verbose=0\n",
    ")"
   ]
  },
  {
   "cell_type": "code",
   "execution_count": null,
   "metadata": {},
   "outputs": [],
   "source": [
    "model.set_weights(adcb.best_weights)"
   ]
  },
  {
   "cell_type": "code",
   "execution_count": null,
   "metadata": {},
   "outputs": [],
   "source": [
    "print(results.history.keys())\n",
    "\n",
    "if 'loss' in results.history.keys():\n",
    "    plt.plot(results.history['loss'])\n",
    "if 'mean_absolute_error' in results.history.keys():\n",
    "    plt.plot(results.history['mean_absolute_error'])\n",
    "if 'binary_crossentropy' in results.history.keys():\n",
    "    plt.plot(results.history['binary_crossentropy'])\n",
    "plt.title('losses')\n",
    "plt.ylabel('loss')\n",
    "plt.xlabel('epoch')\n",
    "plt.legend(['loss', 'mean_absolute_error', 'binary_crossentropy'], loc='upper right')\n",
    "plt.show()"
   ]
  },
  {
   "cell_type": "code",
   "execution_count": null,
   "metadata": {},
   "outputs": [],
   "source": [
    "predictions = model.predict(\n",
    "    x=test_ds.batch(batch_size)\n",
    ")\n",
    "print(predictions.shape)"
   ]
  },
  {
   "cell_type": "code",
   "execution_count": null,
   "metadata": {
    "scrolled": false
   },
   "outputs": [],
   "source": [
    "n_rows = len(predictions)\n",
    "n_cols = 2\n",
    "greyscale = True\n",
    "\n",
    "_, axarr = plt.subplots(n_rows, n_cols, figsize=(15, 15*n_rows/n_cols))\n",
    "for idx, ((img, lbl), pre) in enumerate(zip(test_ds, predictions)):\n",
    "    axarr[idx,0].set_title(\"{}: {}\".format(\n",
    "        \"good\" if lbl == 0 else \"broken\",\n",
    "        tf.reduce_mean(tf.keras.losses.MSE(img, pre))\n",
    "    ))\n",
    "    axarr[idx,0].imshow(img, cmap=plt.cm.binary if greyscale else None)\n",
    "    axarr[idx,1].imshow(pre, cmap=plt.cm.binary if greyscale else None)\n",
    "plt.show()"
   ]
  },
  {
   "cell_type": "code",
   "execution_count": null,
   "metadata": {},
   "outputs": [],
   "source": [
    "model.save_weights('/tmp/cae')\n",
    "!(ls -lah /tmp/cae*)"
   ]
  }
 ],
 "metadata": {
  "kernelspec": {
   "display_name": "Python 3",
   "language": "python",
   "name": "python3"
  },
  "language_info": {
   "codemirror_mode": {
    "name": "ipython",
    "version": 3
   },
   "file_extension": ".py",
   "mimetype": "text/x-python",
   "name": "python",
   "nbconvert_exporter": "python",
   "pygments_lexer": "ipython3",
   "version": "3.6.9"
  }
 },
 "nbformat": 4,
 "nbformat_minor": 4
}
