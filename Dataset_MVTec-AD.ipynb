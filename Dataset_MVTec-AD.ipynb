{
 "cells": [
  {
   "cell_type": "code",
   "execution_count": null,
   "metadata": {},
   "outputs": [],
   "source": [
    "import os\n",
    "from importlib import reload\n",
    "import tensorflow as tf\n",
    "\n",
    "import datasets.mvtec_ad as ds"
   ]
  },
  {
   "cell_type": "code",
   "execution_count": null,
   "metadata": {},
   "outputs": [],
   "source": [
    "reload(ds)"
   ]
  },
  {
   "cell_type": "code",
   "execution_count": null,
   "metadata": {},
   "outputs": [],
   "source": [
    "categories = [\n",
    "    'bottle', 'cable', 'capsule', 'carpet',\n",
    "    'grid', 'hazelnut', 'leather', 'metal_nut',\n",
    "    'pill', 'screw', 'tile', 'toothbrush',\n",
    "    'transistor', 'wood', 'zipper'\n",
    "]\n",
    "\n",
    "for category in categories:\n",
    "    ad_ds = ds.get_labeled_dataset(category = category, split = 'train')\n",
    "    print(\"{}: elements: {}\".format(\n",
    "        category,\n",
    "        tf.data.experimental.cardinality(ad_ds).numpy()\n",
    "    ))\n",
    "    for image, label in ad_ds.take(1):\n",
    "        print(\"Image shape: {}, Label: {}\".format(\n",
    "            image.numpy().shape,\n",
    "            label.numpy()\n",
    "        ))"
   ]
  },
  {
   "cell_type": "code",
   "execution_count": null,
   "metadata": {},
   "outputs": [],
   "source": []
  }
 ],
 "metadata": {
  "kernelspec": {
   "display_name": "Python 3",
   "language": "python",
   "name": "python3"
  },
  "language_info": {
   "codemirror_mode": {
    "name": "ipython",
    "version": 3
   },
   "file_extension": ".py",
   "mimetype": "text/x-python",
   "name": "python",
   "nbconvert_exporter": "python",
   "pygments_lexer": "ipython3",
   "version": "3.6.9"
  }
 },
 "nbformat": 4,
 "nbformat_minor": 2
}
