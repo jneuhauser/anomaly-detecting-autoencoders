{
 "cells": [
  {
   "cell_type": "code",
   "execution_count": null,
   "metadata": {},
   "outputs": [],
   "source": [
    "import os\n",
    "from importlib import reload\n",
    "import numpy as np\n",
    "import tensorflow as tf\n",
    "\n",
    "import datasets.mvtec_ad as ds\n",
    "import utils.plot as up"
   ]
  },
  {
   "cell_type": "code",
   "execution_count": null,
   "metadata": {},
   "outputs": [],
   "source": [
    "reload(ds)\n",
    "reload(up)"
   ]
  },
  {
   "cell_type": "code",
   "execution_count": null,
   "metadata": {},
   "outputs": [],
   "source": [
    "categories = [\n",
    "    'bottle', 'cable', 'capsule', 'carpet',\n",
    "    'grid', 'hazelnut', 'leather', 'metal_nut',\n",
    "    'pill', 'screw', 'tile', 'toothbrush',\n",
    "    'transistor', 'wood', 'zipper'\n",
    "]\n",
    "\n",
    "for category in categories:\n",
    "    ad_ds = ds.get_labeled_dataset(category = category, split = 'train')\n",
    "    print(\"{}: elements: {}\".format(\n",
    "        category,\n",
    "        tf.data.experimental.cardinality(ad_ds).numpy()\n",
    "    ))\n",
    "    for image, label in ad_ds.take(1):\n",
    "        print(\"Image shape: {}, Label: {}\".format(\n",
    "            image.numpy().shape,\n",
    "            label.numpy()\n",
    "        ))"
   ]
  },
  {
   "cell_type": "code",
   "execution_count": null,
   "metadata": {
    "scrolled": false
   },
   "outputs": [],
   "source": [
    "ad_ds = ds.get_labeled_dataset(category = 'bottle', split = 'test', binary_labels=True)\n",
    "\n",
    "for image, label in ad_ds.take(10):\n",
    "    print(image.numpy().dtype, np.max(image.numpy()))\n",
    "    title = \"Image shape: {}, Label: {}\".format(\n",
    "        image.numpy().shape,\n",
    "        label.numpy()\n",
    "    )\n",
    "    up.imshow(image.numpy(), title)"
   ]
  },
  {
   "cell_type": "code",
   "execution_count": null,
   "metadata": {},
   "outputs": [],
   "source": [
    "ad_ds = ds.get_labeled_dataset(category = 'bottle', split = 'test', image_channels=1, binary_labels=True)\n",
    "\n",
    "ad_ds = ad_ds.map(lambda x, y: (tf.image.resize(x, (128, 128)), y))\n",
    "\n",
    "for image, label in ad_ds.take(10):\n",
    "    print(image.numpy().dtype, np.max(image.numpy()))\n",
    "    title = \"Image shape: {}, Label: {}\".format(\n",
    "        image.numpy().shape,\n",
    "        label.numpy()\n",
    "    )\n",
    "    up.imshow(image.numpy(), title)"
   ]
  },
  {
   "cell_type": "code",
   "execution_count": null,
   "metadata": {},
   "outputs": [],
   "source": []
  }
 ],
 "metadata": {
  "kernelspec": {
   "display_name": "Python 3",
   "language": "python",
   "name": "python3"
  },
  "language_info": {
   "codemirror_mode": {
    "name": "ipython",
    "version": 3
   },
   "file_extension": ".py",
   "mimetype": "text/x-python",
   "name": "python",
   "nbconvert_exporter": "python",
   "pygments_lexer": "ipython3",
   "version": "3.6.9"
  }
 },
 "nbformat": 4,
 "nbformat_minor": 2
}
