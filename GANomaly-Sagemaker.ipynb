{
 "cells": [
  {
   "cell_type": "code",
   "execution_count": null,
   "metadata": {},
   "outputs": [],
   "source": [
    "!(python3 train_ganomaly.py \\\n",
    "  \\\n",
    "  --epochs 1 \\\n",
    "  --batch_size 64 \\\n",
    "  --learning_rate 0.0002 \\\n",
    "  \\\n",
    "  --dataset_name mnist \\\n",
    "  --cache_path /tmp \\\n",
    "  --abnormal_class 2 \\\n",
    "  --image_size 32 \\\n",
    "  --image_channels 0 \\\n",
    "  --buffer_size 1000 \\\n",
    "  --shuffle y \\\n",
    "  --prefetch y \\\n",
    "  --random_brightness n \\\n",
    "  --random_crop n \\\n",
    "  --random_flip n \\\n",
    "  --repeat_dataset 0 \\\n",
    "  \\\n",
    "  --latent_size 100 \\\n",
    "  --n_extra_layers 0 \\\n",
    "  --n_filters 64 \\\n",
    "  \\\n",
    "  --train_steps 1 \\\n",
    "  --eval_steps 1 \\\n",
    "  --log_level debug \\\n",
    "  --debug n \\\n",
    "  \\\n",
    "  --data_dir ./trainig/data \\\n",
    "  --model_dir ./trainig/model \\\n",
    "  --output_data_dir ./trainig/output \\\n",
    " )"
   ]
  }
 ],
 "metadata": {
  "kernelspec": {
   "display_name": "Python 3",
   "language": "python",
   "name": "python3"
  },
  "language_info": {
   "codemirror_mode": {
    "name": "ipython",
    "version": 3
   },
   "file_extension": ".py",
   "mimetype": "text/x-python",
   "name": "python",
   "nbconvert_exporter": "python",
   "pygments_lexer": "ipython3",
   "version": "3.6.9"
  }
 },
 "nbformat": 4,
 "nbformat_minor": 2
}
